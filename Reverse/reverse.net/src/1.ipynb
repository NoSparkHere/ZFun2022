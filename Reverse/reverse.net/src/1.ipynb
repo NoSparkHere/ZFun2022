{
 "cells": [
  {
   "cell_type": "code",
   "execution_count": 6,
   "metadata": {},
   "outputs": [],
   "source": [
    "def fs(n):\n",
    "    ls = []\n",
    "    last = 0\n",
    "    for x in range(n):\n",
    "        last = ((last*2 + 35)//3 +x)%256\n",
    "        ls.append(last^x)\n",
    "    return ls"
   ]
  },
  {
   "cell_type": "code",
   "execution_count": 9,
   "metadata": {},
   "outputs": [],
   "source": [
    "flag = b\"ZFun{reverse_a_program_written_by_csharp_is_very_easy}\"\n",
    "mask = fs(len(flag))"
   ]
  },
  {
   "cell_type": "code",
   "execution_count": 11,
   "metadata": {},
   "outputs": [],
   "source": [
    "def strxor(a,b):\n",
    "    return [x^y for x,y in zip(a,b)]"
   ]
  },
  {
   "cell_type": "code",
   "execution_count": 12,
   "metadata": {},
   "outputs": [
    {
     "data": {
      "text/plain": [
       "[81,\n",
       " 83,\n",
       " 108,\n",
       " 77,\n",
       " 90,\n",
       " 94,\n",
       " 78,\n",
       " 65,\n",
       " 94,\n",
       " 77,\n",
       " 64,\n",
       " 82,\n",
       " 108,\n",
       " 46,\n",
       " 20,\n",
       " 55,\n",
       " 41,\n",
       " 48,\n",
       " 36,\n",
       " 53,\n",
       " 34,\n",
       " 34,\n",
       " 20,\n",
       " 0,\n",
       " 9,\n",
       " 22,\n",
       " 7,\n",
       " 3,\n",
       " 22,\n",
       " 1,\n",
       " 52,\n",
       " 5,\n",
       " 34,\n",
       " 0,\n",
       " 192,\n",
       " 212,\n",
       " 203,\n",
       " 206,\n",
       " 217,\n",
       " 199,\n",
       " 228,\n",
       " 214,\n",
       " 192,\n",
       " 232,\n",
       " 197,\n",
       " 234,\n",
       " 249,\n",
       " 254,\n",
       " 196,\n",
       " 250,\n",
       " 226,\n",
       " 244,\n",
       " 250,\n",
       " 242]"
      ]
     },
     "execution_count": 12,
     "metadata": {},
     "output_type": "execute_result"
    }
   ],
   "source": [
    "strxor(flag,mask)"
   ]
  },
  {
   "cell_type": "code",
   "execution_count": null,
   "metadata": {},
   "outputs": [],
   "source": []
  }
 ],
 "metadata": {
  "kernelspec": {
   "display_name": "Python 3.10.8 ('py')",
   "language": "python",
   "name": "python3"
  },
  "language_info": {
   "codemirror_mode": {
    "name": "ipython",
    "version": 3
   },
   "file_extension": ".py",
   "mimetype": "text/x-python",
   "name": "python",
   "nbconvert_exporter": "python",
   "pygments_lexer": "ipython3",
   "version": "3.10.8"
  },
  "orig_nbformat": 4,
  "vscode": {
   "interpreter": {
    "hash": "c4c5ad7d391cf249313b6590166e6136f788f03bcc58455fd461ff1890a1f7ff"
   }
  }
 },
 "nbformat": 4,
 "nbformat_minor": 2
}
