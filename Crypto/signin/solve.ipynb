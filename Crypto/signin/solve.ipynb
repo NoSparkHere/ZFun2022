{
 "cells": [
  {
   "cell_type": "code",
   "execution_count": 6,
   "metadata": {},
   "outputs": [],
   "source": [
    "from Crypto.Util.number import getPrime, inverse, GCD, bytes_to_long, long_to_bytes\n",
    "\n",
    "flag = b\"ZFun{wow_you_have_know_what_is_RSA!}\"\n",
    "\n",
    "assert len(flag) == 36\n",
    "assert flag.startswith(b\"ZFun{\")\n",
    "assert flag.endswith(b\"}\")"
   ]
  },
  {
   "cell_type": "code",
   "execution_count": 7,
   "metadata": {},
   "outputs": [],
   "source": [
    "p,q = getPrime(256), getPrime(256)\n",
    "n = p*q\n",
    "e = 65537\n",
    "m = bytes_to_long(flag)\n",
    "c = pow(m,e,n)"
   ]
  },
  {
   "cell_type": "code",
   "execution_count": 8,
   "metadata": {},
   "outputs": [],
   "source": [
    "phi = (p-1)*(q-1)\n",
    "assert GCD(e,phi) == 1\n",
    "d = inverse(e,phi)\n",
    "assert m == pow(c,d,n)"
   ]
  },
  {
   "cell_type": "code",
   "execution_count": null,
   "metadata": {},
   "outputs": [],
   "source": [
    "print(f\"# n = {n}\\n# c = {c}\")"
   ]
  }
 ],
 "metadata": {
  "kernelspec": {
   "display_name": "venv",
   "language": "python",
   "name": "python3"
  },
  "language_info": {
   "codemirror_mode": {
    "name": "ipython",
    "version": 3
   },
   "file_extension": ".py",
   "mimetype": "text/x-python",
   "name": "python",
   "nbconvert_exporter": "python",
   "pygments_lexer": "ipython3",
   "version": "3.11.0 (main, Oct 24 2022, 00:00:00) [GCC 12.2.1 20220819 (Red Hat 12.2.1-2)]"
  },
  "orig_nbformat": 4,
  "vscode": {
   "interpreter": {
    "hash": "04b9233e1eac29c3bb98edeb7f2fb61241e2fb2c8f2d57998b97bf33f342ff86"
   }
  }
 },
 "nbformat": 4,
 "nbformat_minor": 2
}
