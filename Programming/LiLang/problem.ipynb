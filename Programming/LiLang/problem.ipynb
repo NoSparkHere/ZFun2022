{
 "cells": [
  {
   "cell_type": "code",
   "execution_count": 1,
   "metadata": {},
   "outputs": [],
   "source": [
    "import random\n",
    "import string\n",
    "\n",
    "printable = string.ascii_letters+string.digits+string.punctuation\n",
    "def randstr(length):\n",
    "    return \"\".join(random.choices(printable,k=length))"
   ]
  },
  {
   "cell_type": "code",
   "execution_count": 2,
   "metadata": {},
   "outputs": [],
   "source": [
    "flag = \"ZFun{wow_you_know_so_much_about_lilang_but_python_is_better_than_it}\"\n",
    "flag_ = randstr(10) + flag + randstr(10)"
   ]
  },
  {
   "cell_type": "code",
   "execution_count": 3,
   "metadata": {},
   "outputs": [],
   "source": [
    "part1 = \"\".join((flag_[i] for i in range(len(flag_)) if i%3 !=0 ))\n",
    "part2 = \"\".join((flag_[i] for i in range(len(flag_)) if i%3 ==0 ))"
   ]
  },
  {
   "cell_type": "code",
   "execution_count": 4,
   "metadata": {},
   "outputs": [],
   "source": [
    "grp = [randstr(random.randint(len(part1)//2,len(part1)-1)) for _ in range(9)] \n",
    "grp.append(part1)\n",
    "random.shuffle(grp)\n",
    "grp2 = [randstr(random.randint(len(part2)+1,len(part2)*2)) for _ in range(9)] \n",
    "grp2.append(part2)\n",
    "random.shuffle(grp2)"
   ]
  },
  {
   "cell_type": "code",
   "execution_count": 5,
   "metadata": {},
   "outputs": [],
   "source": [
    "with open(\"data.txt\",\"w\") as f:\n",
    "    f.write(\"\\n\".join(grp+grp2))"
   ]
  },
  {
   "cell_type": "code",
   "execution_count": 6,
   "metadata": {},
   "outputs": [
    {
     "name": "stdout",
     "output_type": "stream",
     "text": [
      "JP^1\"l)\\`FZFun{wow_you_know_so_much_about_lilang_but_python_is_better_than_it}X%),W(>=P\n"
     ]
    }
   ],
   "source": [
    "longest = max(grp, key=len)\n",
    "shortest = min(grp2, key=len)\n",
    "\n",
    "out = \"\".join([(shortest[(i//2) % len(shortest)] if i%2 == 0 else \"\" ) + longest[i] for i in range(len(longest))])\n",
    "print(out)"
   ]
  }
 ],
 "metadata": {
  "kernelspec": {
   "display_name": "venv",
   "language": "python",
   "name": "python3"
  },
  "language_info": {
   "codemirror_mode": {
    "name": "ipython",
    "version": 3
   },
   "file_extension": ".py",
   "mimetype": "text/x-python",
   "name": "python",
   "nbconvert_exporter": "python",
   "pygments_lexer": "ipython3",
   "version": "3.11.0"
  },
  "orig_nbformat": 4,
  "vscode": {
   "interpreter": {
    "hash": "04b9233e1eac29c3bb98edeb7f2fb61241e2fb2c8f2d57998b97bf33f342ff86"
   }
  }
 },
 "nbformat": 4,
 "nbformat_minor": 2
}
